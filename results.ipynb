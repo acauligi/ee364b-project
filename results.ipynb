{
 "cells": [
  {
   "cell_type": "code",
   "execution_count": 1,
   "metadata": {},
   "outputs": [],
   "source": [
    "%load_ext autoreload\n",
    "%autoreload 2"
   ]
  },
  {
   "cell_type": "code",
   "execution_count": 53,
   "metadata": {},
   "outputs": [],
   "source": [
    "import numpy as np\n",
    "import cvxpy as cp\n",
    "\n",
    "from scipy import stats\n",
    "import matplotlib.pyplot as plt\n",
    "\n",
    "import torch\n",
    "from torch import nn\n",
    "import torch.nn.functional as F\n",
    "from torch.autograd import Variable\n",
    "from torch.utils.data import DataLoader\n",
    "import torch.optim as optim\n",
    "import os\n",
    "import random\n",
    "\n",
    "import sys\n",
    "sys.path.insert(0, './mlopt-micp')\n",
    "sys.path.insert(0, './mlopt-micp/cartpole')\n",
    "\n",
    "import math\n",
    "import seaborn as sns\n",
    "sns.set(font_scale=2., font=\"serif\", style=\"whitegrid\")\n",
    "import pandas as pd\n",
    "\n",
    "import optimizer\n",
    "from problem import Cartpole\n",
    "from src.ae import Encoder, get_cartpole_encoder"
   ]
  },
  {
   "cell_type": "code",
   "execution_count": 3,
   "metadata": {},
   "outputs": [],
   "source": [
    "pp = Cartpole()"
   ]
  },
  {
   "cell_type": "code",
   "execution_count": 179,
   "metadata": {},
   "outputs": [],
   "source": [
    "test_start = int(0.99*pp.n_probs)\n",
    "n_test = int(0.01*pp.n_probs)"
   ]
  },
  {
   "cell_type": "code",
   "execution_count": 5,
   "metadata": {},
   "outputs": [],
   "source": [
    "#compute strategy dictionary for all problems\n",
    "pp.training_batch_percentage = 1.\n",
    "pp.construct_strategies()\n",
    "strat_lookup = {}\n",
    "for k, v in pp.strategy_dict.items():\n",
    "    strat_lookup[v[0]] = v[1:]"
   ]
  },
  {
   "cell_type": "markdown",
   "metadata": {},
   "source": [
    "# MLOPT"
   ]
  },
  {
   "cell_type": "code",
   "execution_count": 6,
   "metadata": {},
   "outputs": [],
   "source": [
    "fn_classifier_model = 'pytorch/mlopt_model_cartpole_20200610_1131_classifier.pt'\n",
    "if os.path.exists(fn_classifier_model):\n",
    "    pp.model_classifier.load_state_dict(torch.load(fn_classifier_model))"
   ]
  },
  {
   "cell_type": "code",
   "execution_count": 87,
   "metadata": {},
   "outputs": [],
   "source": [
    "mlopt_feasible = np.zeros(n_test)\n",
    "mlopt_costs = np.zeros(n_test)\n",
    "mlopt_costs_ratio = np.zeros(n_test)"
   ]
  },
  {
   "cell_type": "code",
   "execution_count": 88,
   "metadata": {},
   "outputs": [],
   "source": [
    "prob_success = False\n",
    "\n",
    "for ii in range(n_test):\n",
    "    try:\n",
    "        prob_success, cost, solve_time, n_evals = pp.solve_with_classifier(ii+test_start)\n",
    "        if prob_success:\n",
    "            mlopt_feasible[ii] = 1.\n",
    "            mlopt_costs[ii] = cost\n",
    "            mlopt_costs_ratio[ii] = cost / pp.J[ii+test_start]\n",
    "    except (KeyboardInterrupt, SystemExit):\n",
    "        raise\n",
    "    except:\n",
    "        print('mosek failed at '.format(ii))"
   ]
  },
  {
   "cell_type": "markdown",
   "metadata": {},
   "source": [
    "# CoCO"
   ]
  },
  {
   "cell_type": "code",
   "execution_count": 22,
   "metadata": {},
   "outputs": [],
   "source": [
    "dim_in, dim_z = pp.n_features, 2\n",
    "enc = get_cartpole_encoder(dim_in, dim_z).cuda()\n",
    "m = 250"
   ]
  },
  {
   "cell_type": "code",
   "execution_count": 23,
   "metadata": {},
   "outputs": [],
   "source": [
    "coco_model = 'pytorch/coco-{}strats.pt'.format(m)\n",
    "if os.path.exists(coco_model):\n",
    "    enc.load_state_dict(torch.load(coco_model))"
   ]
  },
  {
   "cell_type": "code",
   "execution_count": 27,
   "metadata": {},
   "outputs": [],
   "source": [
    "centroids = 10*torch.randn(m,dim_z).cuda()\n",
    "tau = 1.\n",
    "\n",
    "feats = torch.from_numpy(pp.features).float().cuda()\n",
    "\n",
    "enc_dict = {}\n",
    "str_dict = {}\n",
    "for ii in range(len(pp.features)):\n",
    "    str_idx = int(pp.labels[ii,0])\n",
    "    str_dict[ii] = str_idx\n",
    "    if str_idx in enc_dict.keys():\n",
    "        enc_dict[str_idx] += [ii]\n",
    "    else:\n",
    "        enc_dict[str_idx] = [ii]\n",
    "\n",
    "max_inds = np.argsort(np.array([len(e) for e in enc_dict.values()]))[-m:]\n",
    "\n",
    "n_train_strategies = m #store how many strats in train set\n",
    "c_k = torch.zeros((n_train_strategies,dim_z)) \n",
    "embeddings = enc(feats) #embed training points\n",
    "for ii in range(n_train_strategies): #compute train centroids\n",
    "    inds = enc_dict[max_inds[ii]]\n",
    "    c_k[ii,:] = torch.mean(embeddings[inds,:],axis=0).cuda()\n",
    "\n",
    "#setup for test\n",
    "test_feats = torch.from_numpy(pp.features[int(0.9*pp.n_probs):,:]).float().cuda()\n",
    "test_enc = enc(test_feats).cuda()\n",
    "test_dists = torch.cdist(test_enc,c_k.cuda()).detach().cpu().numpy()\n",
    "ind_max = np.argsort(test_dists)[:,:pp.n_evals]"
   ]
  },
  {
   "cell_type": "code",
   "execution_count": 98,
   "metadata": {},
   "outputs": [],
   "source": [
    "coco_feasible = np.zeros(n_test)\n",
    "coco_costs = np.zeros(n_test)\n",
    "coco_costs_ratio = np.zeros(n_test)"
   ]
  },
  {
   "cell_type": "code",
   "execution_count": 99,
   "metadata": {},
   "outputs": [],
   "source": [
    "for ii in range(n_test):\n",
    "    for jj in range(pp.n_evals):\n",
    "        y_guess = strat_lookup[max_inds[ind_max[ii,jj]]]\n",
    "        try:\n",
    "            prob_success, cost, solve_time = pp.solve_mlopt_prob_with_idx(ii+test_start, y_guess)\n",
    "            if prob_success:\n",
    "                coco_feasible[ii] = 1.\n",
    "                coco_costs[ii] = cost\n",
    "                coco_costs_ratio[ii] = cost / pp.J[ii+test_start]\n",
    "                break\n",
    "        except (KeyboardInterrupt, SystemExit):\n",
    "            raise\n",
    "        except:\n",
    "            print('mosek failed at '.format(ii))"
   ]
  },
  {
   "cell_type": "markdown",
   "metadata": {},
   "source": [
    "# kNN"
   ]
  },
  {
   "cell_type": "code",
   "execution_count": 47,
   "metadata": {},
   "outputs": [],
   "source": [
    "def nn_classifier(x,Y,k=1):\n",
    "    dist_inds = torch.argsort(torch.cdist(Y,x[None,:]),dim=0).cpu().numpy()\n",
    "    strats_sorted = pp.labels[dist_inds,0].astype(int)\n",
    "    return int(stats.mode(strats_sorted[:k])[0])"
   ]
  },
  {
   "cell_type": "code",
   "execution_count": 70,
   "metadata": {},
   "outputs": [],
   "source": [
    "Y = feats[:test_start,:]\n",
    "\n",
    "nn_classifier(feats[test_start,:],Y,k=5)\n",
    "\n",
    "k = 5"
   ]
  },
  {
   "cell_type": "code",
   "execution_count": 71,
   "metadata": {},
   "outputs": [],
   "source": [
    "knn_feasible = np.zeros(n_test)\n",
    "knn_costs = np.zeros(n_test)\n",
    "knn_costs_ratio = np.zeros(n_test)"
   ]
  },
  {
   "cell_type": "code",
   "execution_count": 72,
   "metadata": {},
   "outputs": [],
   "source": [
    "prob_success = False\n",
    "\n",
    "for ii in range(n_test):\n",
    "    y_guess = strat_lookup[nn_classifier(feats[test_start+ii,:],Y,k=k)]\n",
    "    try:\n",
    "        prob_success, cost, solve_time = pp.solve_mlopt_prob_with_idx(ii+test_start, y_guess)\n",
    "        if prob_success:\n",
    "            knn_feasible[ii] = 1.\n",
    "            knn_costs[ii] = cost\n",
    "            knn_costs_ratio[ii] = cost / pp.J[ii+test_start]\n",
    "    except (KeyboardInterrupt, SystemExit):\n",
    "        raise\n",
    "    except:\n",
    "        print('mosek failed at '.format(ii))"
   ]
  },
  {
   "cell_type": "markdown",
   "metadata": {},
   "source": [
    "# Results"
   ]
  },
  {
   "cell_type": "code",
   "execution_count": 147,
   "metadata": {},
   "outputs": [
    {
     "data": {
      "image/png": "[encoded data removed]",
      "text/plain": [
       "<Figure size 432x288 with 1 Axes>"
      ]
     },
     "metadata": {},
     "output_type": "display_data"
    }
   ],
   "source": [
    "results = pd.DataFrame()\n",
    "results['Policy'] = ['CoCo',  'MLOPT', 'kNN']\n",
    "results['Success'] = [np.sum(coco_feasible) / len(coco_feasible), np.sum(mlopt_feasible) / len(mlopt_feasible), np.sum(knn_feasible) / len(knn_feasible)]\n",
    "\n",
    "ax1 = sns.barplot(x=results['Policy'], y=results['Success'], palette=\"Set3\")\n",
    "\n",
    "ax1.set(xlabel=\"\", ylabel=\"Percent Success\")\n",
    "\n",
    "plt.tight_layout()\n",
    "\n",
    "figure = ax1.get_figure()\n",
    "# figure.savefig(\"percent_success.pdf\")"
   ]
  },
  {
   "cell_type": "code",
   "execution_count": 178,
   "metadata": {},
   "outputs": [
    {
     "data": {
      "image/png": "[encoded data removed]",
      "text/plain": [
       "<Figure size 432x288 with 1 Axes>"
      ]
     },
     "metadata": {},
     "output_type": "display_data"
    }
   ],
   "source": [
    "coco_feasible_cost_ratios = [coco_costs_ratio[ii] for ii in range(n_test) if coco_feasible[ii]]\n",
    "mlopt_feasible_cost_ratios = [mlopt_costs_ratio[ii] for ii in range(n_test) if mlopt_feasible[ii]]\n",
    "knn_feasible_cost_ratios = [knn_costs_ratio[ii] for ii in range(n_test) if knn_feasible[ii]]\n",
    "\n",
    "results = pd.DataFrame()\n",
    "results['Costs'] = coco_feasible_cost_ratios + mlopt_feasible_cost_ratios + knn_feasible_cost_ratios\n",
    "results['Policy'] = ['CoCo']*len(coco_feasible_cost_ratios) +   ['MLOPT']*len(mlopt_feasible_cost_ratios) + ['kNN']*len(knn_feasible_cost_ratios)\n",
    "\n",
    "ax2 = sns.boxplot(x=results['Policy'], y=results['Costs'], palette=\"Set3\")\n",
    "ax2.set(xlabel=\"\", ylabel=\"Costs\")\n",
    "\n",
    "plt.tight_layout()\n",
    "# plt.ylim(0, int(math.ceil(np.max(np.maximum(coco_feasible_cost_ratios, mlopt_feasible_cost_ratios, knn_feasible_cost_ratios)) / 10.0)) * 10)\n",
    "\n",
    "figure = ax2.get_figure()\n",
    "# figure.savefig(\"costs.pdf\")"
   ]
  }
 ],
 "metadata": {
  "kernelspec": {
   "display_name": "mlopt",
   "language": "python",
   "name": "mlopt"
  },
  "language_info": {
   "codemirror_mode": {
    "name": "ipython",
    "version": 3
   },
   "file_extension": ".py",
   "mimetype": "text/x-python",
   "name": "python",
   "nbconvert_exporter": "python",
   "pygments_lexer": "ipython3",
   "version": "3.6.3"
  }
 },
 "nbformat": 4,
 "nbformat_minor": 2
}
